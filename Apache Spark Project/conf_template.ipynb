{
 "cells": [
  {
   "cell_type": "code",
   "execution_count": 1,
   "id": "tamil-sociology",
   "metadata": {},
   "outputs": [],
   "source": [
    "'''\n",
    "code from Internet:\n",
    "https://stackoverflow.com/questions/6198372/most-pythonic-way-to-provide-global-configuration-variables-in-config-py\n",
    "config object template\n",
    "'''\n",
    "class Struct(object):\n",
    "    def __init__(self, *args):\n",
    "        self.__header__ = str(args[0]) if args else None\n",
    "\n",
    "    def __repr__(self):\n",
    "        if self.__header__ is None:\n",
    "             return super(Struct, self).__repr__()\n",
    "        return self.__header__\n",
    "\n",
    "    def next(self):\n",
    "        \"\"\" Fake iteration functionality.\n",
    "        \"\"\"\n",
    "        raise StopIteration\n",
    "\n",
    "    def __iter__(self):\n",
    "        \"\"\" Fake iteration functionality.\n",
    "        We skip magic attribues and Structs, and return the rest.\n",
    "        \"\"\"\n",
    "        ks = self.__dict__.keys()\n",
    "        for k in ks:\n",
    "            if not k.startswith('__') and not isinstance(k, Struct):\n",
    "                yield getattr(self, k)\n",
    "\n",
    "    def __len__(self):\n",
    "        \"\"\" Don't count magic attributes or Structs.\n",
    "        \"\"\"\n",
    "        ks = self.__dict__.keys()\n",
    "        return len([k for k in ks if not k.startswith('__')\\\n",
    "                    and not isinstance(k, Struct)])"
   ]
  }
 ],
 "metadata": {
  "kernelspec": {
   "display_name": "Python 3",
   "language": "python",
   "name": "python3"
  },
  "language_info": {
   "codemirror_mode": {
    "name": "ipython",
    "version": 3
   },
   "file_extension": ".py",
   "mimetype": "text/x-python",
   "name": "python",
   "nbconvert_exporter": "python",
   "pygments_lexer": "ipython3",
   "version": "3.7.3"
  }
 },
 "nbformat": 4,
 "nbformat_minor": 5
}
